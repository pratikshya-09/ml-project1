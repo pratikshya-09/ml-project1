{
 "cells": [
  {
   "cell_type": "code",
   "execution_count": 12,
   "id": "82a9c591-69af-4896-83c5-21dafe17cef3",
   "metadata": {},
   "outputs": [],
   "source": [
    "import joblib \n",
    "import pandas as pd\n",
    "import seaborn as sns"
   ]
  },
  {
   "cell_type": "code",
   "execution_count": 6,
   "id": "97e46986-8e4f-43b7-8ccc-b384ee6bfff8",
   "metadata": {},
   "outputs": [],
   "source": [
    "features=joblib.load('iris_linear_feature_names.pkl')"
   ]
  },
  {
   "cell_type": "code",
   "execution_count": 7,
   "id": "eaff7ff9-9a4b-43ca-9ae0-d6062203a777",
   "metadata": {},
   "outputs": [],
   "source": [
    "features=pd.DataFrame(features)"
   ]
  },
  {
   "cell_type": "code",
   "execution_count": 13,
   "id": "b4883ad1-87d7-48eb-ad18-ca3d96e6579b",
   "metadata": {},
   "outputs": [],
   "source": [
    "iris=sns.load_dataset('iris')"
   ]
  },
  {
   "cell_type": "code",
   "execution_count": 15,
   "id": "2f5af3ee-c563-4371-be55-fe86cb52042a",
   "metadata": {},
   "outputs": [],
   "source": [
    "iris.drop('species', axis=1, inplace=True)"
   ]
  },
  {
   "cell_type": "code",
   "execution_count": 16,
   "id": "1162ce33-f65d-4d60-9726-29903f435af1",
   "metadata": {},
   "outputs": [
    {
     "data": {
      "text/plain": [
       "Index(['sepal_length', 'sepal_width', 'petal_length', 'petal_width'], dtype='object')"
      ]
     },
     "execution_count": 16,
     "metadata": {},
     "output_type": "execute_result"
    }
   ],
   "source": [
    "iris.columns"
   ]
  },
  {
   "cell_type": "code",
   "execution_count": 17,
   "id": "45b5e18c-dfa4-4cb2-9f52-76975a7e78bd",
   "metadata": {},
   "outputs": [],
   "source": [
    "iris_cols=iris.columns"
   ]
  },
  {
   "cell_type": "code",
   "execution_count": 18,
   "id": "2ed2dd31-bd08-4fbd-b147-aed96f287293",
   "metadata": {},
   "outputs": [
    {
     "data": {
      "text/plain": [
       "['iris_cols.pkl']"
      ]
     },
     "execution_count": 18,
     "metadata": {},
     "output_type": "execute_result"
    }
   ],
   "source": [
    "joblib.dump(iris_cols,'iris_cols.pkl')"
   ]
  },
  {
   "cell_type": "code",
   "execution_count": null,
   "id": "4307684a-906c-44df-adaf-77eb11e2bf3c",
   "metadata": {},
   "outputs": [],
   "source": []
  }
 ],
 "metadata": {
  "kernelspec": {
   "display_name": "Python 3 (ipykernel)",
   "language": "python",
   "name": "python3"
  },
  "language_info": {
   "codemirror_mode": {
    "name": "ipython",
    "version": 3
   },
   "file_extension": ".py",
   "mimetype": "text/x-python",
   "name": "python",
   "nbconvert_exporter": "python",
   "pygments_lexer": "ipython3",
   "version": "3.12.2"
  }
 },
 "nbformat": 4,
 "nbformat_minor": 5
}
